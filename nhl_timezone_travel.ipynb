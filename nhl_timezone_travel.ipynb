{
 "cells": [
  {
   "cell_type": "markdown",
   "metadata": {},
   "source": [
    "### NHL Travel-Across-Timezones Analysis\n",
    "\n",
    "Inspired by an interesting tweet that made this observation (or close to it): for the rest of this (2019-2020) season, the Hurricanes only travel to a different time zone three times.\n",
    "\n",
    "That got me wondering if traveling to a different time zone had any effect on in-game performance, and whether that effect became more pronounced as the number of crossed zones increased. This is an ongoing work in progress as I have time to explore a little more."
   ]
  },
  {
   "cell_type": "code",
   "execution_count": 6,
   "metadata": {},
   "outputs": [],
   "source": [
    "import re\n",
    "import pandas as pd\n",
    "from scipy import stats"
   ]
  },
  {
   "cell_type": "code",
   "execution_count": 7,
   "metadata": {},
   "outputs": [],
   "source": [
    "# Some constants and mappings\n",
    "EST, CST, MST, PST = 0, 1, 2, 3\n",
    "HOME_TIMEZONES = {\n",
    "    'Boston Bruins': EST,\n",
    "    'Washington Capitals': EST,\n",
    "    'Montreal Canadiens': EST,\n",
    "    'Toronto Maple Leafs': EST,\n",
    "    'Anaheim Ducks': PST,\n",
    "    'San Jose Sharks': PST,\n",
    "    'Calgary Flames': MST,\n",
    "    'Vancouver Canucks': PST,\n",
    "    'Chicago Blackhawks': CST,\n",
    "    'Ottawa Senators': EST,\n",
    "    'Columbus Blue Jackets': EST,\n",
    "    'Detroit Red Wings': EST,\n",
    "    'Buffalo Sabres': EST,\n",
    "    'Pittsburgh Penguins': EST,\n",
    "    'Arizona Coyotes': MST,\n",
    "    'Dallas Stars': CST,\n",
    "    'Philadelphia Flyers': EST,\n",
    "    'Vegas Golden Knights': PST,\n",
    "    'Carolina Hurricanes': EST,\n",
    "    'New York Islanders': EST,\n",
    "    'St Louis Blues': CST,\n",
    "    'Winnipeg Jets': CST,\n",
    "    'Nashville Predators': CST,\n",
    "    'New York Rangers': EST,\n",
    "    'Colorado Avalanche': MST,\n",
    "    'Minnesota Wild': CST,\n",
    "    'Los Angeles Kings': PST,\n",
    "    'Edmonton Oilers': MST,\n",
    "    'New Jersey Devils': EST,\n",
    "    'Florida Panthers': EST,\n",
    "    'Tampa Bay Lightning': EST\n",
    "}\n",
    "\n",
    "TEAM_TO_FULL = {\n",
    "    'Bruins': 'Boston Bruins',\n",
    "    'Capitals': 'Washington Capitals',\n",
    "    'Canadiens': 'Montreal Canadiens',\n",
    "    'Maple Leafs': 'Toronto Maple Leafs',\n",
    "    'Ducks': 'Anaheim Ducks',\n",
    "    'Sharks': 'San Jose Sharks',\n",
    "    'Flames': 'Calgary Flames',\n",
    "    'Canucks': 'Vancouver Canucks',\n",
    "    'Blackhawks': 'Chicago Blackhawks',\n",
    "    'Senators': 'Ottawa Senators',\n",
    "    'Blue Jackets': 'Columbus Blue Jackets',\n",
    "    'Red Wings': 'Detroit Red Wings',\n",
    "    'Sabres': 'Buffalo Sabres',\n",
    "    'Penguins': 'Pittsburgh Penguins',\n",
    "    'Coyotes': 'Arizona Coyotes',\n",
    "    'Stars': 'Dallas Stars',\n",
    "    'Flyers': 'Philadelphia Flyers',\n",
    "    'Golden Knights': 'Vegas Golden Knights',\n",
    "    'Hurricanes': 'Carolina Hurricanes',\n",
    "    'Islanders': 'New York Islanders',\n",
    "    'Blues': 'St Louis Blues',\n",
    "    'Jets': 'Winnipeg Jets',\n",
    "    'Predators': 'Nashville Predators',\n",
    "    'Rangers': 'New York Rangers',\n",
    "    'Avalanche': 'Colorado Avalanche',\n",
    "    'Wild': 'Minnesota Wild',\n",
    "    'Kings': 'Los Angeles Kings',\n",
    "    'Oilers': 'Edmonton Oilers',\n",
    "    'Devils': 'New Jersey Devils',\n",
    "    'Panthers': 'Florida Panthers',\n",
    "    'Lightning': 'Tampa Bay Lightning'\n",
    "}"
   ]
  },
  {
   "cell_type": "markdown",
   "metadata": {},
   "source": [
    "This data is comprised of team stats from every game in the 2018-2019 season."
   ]
  },
  {
   "cell_type": "code",
   "execution_count": 12,
   "metadata": {},
   "outputs": [],
   "source": [
    "DATA_PATH = 'nhl_data.csv'\n",
    "df = pd.read_csv(DATA_PATH).drop(columns='Unnamed: 2')\n",
    "\n",
    "# A little bit of feature engineering\n",
    "df['date'] = pd.to_datetime(df['Game'].apply(lambda v: v.split(' - ')[0].strip()))\n",
    "df['win'] = df.apply(lambda row: int(row['GF'] > row['GA']), axis=1)\n",
    "df['home_team'] = df['Game'].apply(\n",
    "    lambda v: TEAM_TO_FULL[re.match(r'\\d+-\\d+-\\d+ - \\w+( \\w+)? \\d+, (\\w+( \\w+)?) \\d+', v).group(2)]\n",
    ")\n",
    "df['is_home'] = df.apply(lambda row: int(row['home_team'] == row['Team']), axis=1)\n",
    "df['game_in_tz'] = df['home_team'].apply(lambda v: HOME_TIMEZONES[v])\n",
    "df.drop(columns='Game', inplace=True)\n",
    "\n",
    "# Calculate the Effective Timezone Difference\n",
    "# If last game was <= 2 days ago, calculate TZ difference from last game\n",
    "# If last game was > 2 days ago, caluclate TZ difference from home TZ\n",
    "def calc_effective_tz_diff(df):\n",
    "    \"\"\"\n",
    "    Expects a dataframe of the schedule for a single team\n",
    "    \"\"\"\n",
    "    team = df.iloc[0].Team\n",
    "    home_tz = HOME_TIMEZONES[team]\n",
    "    df.loc[:, 'prev_tz'] = df['game_in_tz'].shift(1).fillna(home_tz).astype(int)\n",
    "    df.loc[:, 'prev_date'] = df['date'].shift(1)\n",
    "\n",
    "    df.loc[:, 'game_days_diff'] = (df['prev_date'] - df['date']).fillna(pd.Timedelta(days=0)).apply(\n",
    "        lambda d: abs(d.days)\n",
    "    )\n",
    "    df.loc[:, 'tz_travel'] = df.apply(\n",
    "        lambda row: int(abs(\n",
    "            row['prev_tz'] - row['game_in_tz']\n",
    "            if row['game_days_diff'] <= 2\n",
    "            else row['game_in_tz'] - home_tz\n",
    "        )),\n",
    "        axis=1\n",
    "    )\n",
    "    return df.drop(columns=['prev_tz', 'prev_date', 'game_days_diff'])\n",
    "\n",
    "\n",
    "df = pd.concat([calc_effective_tz_diff(df_) for _, df_ in df.groupby('Team')])"
   ]
  },
  {
   "cell_type": "code",
   "execution_count": 14,
   "metadata": {},
   "outputs": [
    {
     "data": {
      "text/plain": [
       "Index(['CA', 'CF%', 'FF', 'FA', 'FF%', 'SF', 'SA', 'SF%', 'GF', 'GA', 'GF%',\n",
       "       'xGF', 'xGA', 'xGF%', 'SCF', 'SCA', 'SCF%', 'HDCF', 'HDCA', 'HDCF%',\n",
       "       'HDSF', 'HDSA', 'HDSF%', 'HDGF', 'HDGA', 'HDGF%', 'HDSH%', 'HDSV%',\n",
       "       'MDCF', 'MDCA', 'MDCF%', 'MDSF', 'MDSA', 'MDSF%', 'MDGF', 'MDGA',\n",
       "       'MDGF%', 'MDSH%', 'MDSV%', 'LDCF', 'LDCA', 'LDCF%', 'LDSF', 'LDSA',\n",
       "       'LDSF%', 'LDGF', 'LDGA', 'LDGF%', 'LDSH%', 'LDSV%', 'SH%', 'SV%',\n",
       "       'PDO'],\n",
       "      dtype='object')"
      ]
     },
     "execution_count": 14,
     "metadata": {},
     "output_type": "execute_result"
    }
   ],
   "source": [
    "team_stats = df.columns[3:-7]\n",
    "team_stats"
   ]
  },
  {
   "cell_type": "code",
   "execution_count": 15,
   "metadata": {},
   "outputs": [
    {
     "name": "stdout",
     "output_type": "stream",
     "text": [
      "FF: 0.024608180339480062\n",
      "xGF: 0.0020866398679000144\n",
      "xGF%: 0.028578364195480554\n",
      "HDCF: 0.0016888490330271323\n",
      "HDCF%: 0.01830904573933463\n",
      "HDSF: 7.439305303227772e-05\n",
      "HDSF%: 0.005776433455912921\n"
     ]
    },
    {
     "name": "stderr",
     "output_type": "stream",
     "text": [
      "/home/dfitzgerald/.conda/lib/python3.6/site-packages/scipy/stats/stats.py:248: RuntimeWarning: The input array could not be properly checked for nan values. nan values will be ignored.\n",
      "  \"values. nan values will be ignored.\", RuntimeWarning)\n"
     ]
    }
   ],
   "source": [
    "no_tz_change_df = df[df['tz_travel'] == 0]\n",
    "tz_change_df = df[df['tz_travel'] != 0]\n",
    "\n",
    "for t_stat in team_stats:\n",
    "    \n",
    "    try:\n",
    "        _, pval = stats.ttest_ind(no_tz_change_df[t_stat], tz_change_df[t_stat], equal_var=False)\n",
    "        if pval <= 0.05:\n",
    "            print('{}: {}'.format(t_stat, pval))\n",
    "    except:\n",
    "        pass  # Silently fail"
   ]
  },
  {
   "cell_type": "markdown",
   "metadata": {},
   "source": [
    "It's interesting that, on a leaguewide scale, it's offense that is affected while defensive stats don't change in a significant way."
   ]
  },
  {
   "cell_type": "code",
   "execution_count": null,
   "metadata": {},
   "outputs": [],
   "source": []
  },
  {
   "cell_type": "code",
   "execution_count": null,
   "metadata": {},
   "outputs": [],
   "source": []
  }
 ],
 "metadata": {
  "kernelspec": {
   "display_name": "Python 3",
   "language": "python",
   "name": "python3"
  },
  "language_info": {
   "codemirror_mode": {
    "name": "ipython",
    "version": 3
   },
   "file_extension": ".py",
   "mimetype": "text/x-python",
   "name": "python",
   "nbconvert_exporter": "python",
   "pygments_lexer": "ipython3",
   "version": "3.6.7"
  }
 },
 "nbformat": 4,
 "nbformat_minor": 2
}
